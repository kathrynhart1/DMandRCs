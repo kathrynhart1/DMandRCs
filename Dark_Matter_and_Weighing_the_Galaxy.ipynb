{
 "cells": [
  {
   "cell_type": "markdown",
   "id": "45ac14fc-139b-4452-8d01-20e9a9bedda9",
   "metadata": {
    "tags": []
   },
   "source": [
    "<h1>RESOLVE DSP Tutorial #3: Dark Matter and Weighing the Galaxy</h1>\n",
    "\n",
    "_____________________________________________________________________________\n",
    "\n",
    "You should have completed the other RESOLVE galaxy tutorials entitled \"What is a galaxy?\" and \"Galaxies and their different flavors”.\n",
    "\n",
    "In this tutorial, you will learn how to use rotation curve data to make measurements of dark matter in a spiral galaxy. You will be using the programming language \"Python\" to analyze rotation curve data, including the distance \"r\" from the center of the galaxy and orbital velocity \"v\" of matter in the galaxy.\n",
    "\n",
    "You will also learn about some galaxies in the RESOLVE (REsolved Spectroscopy Of a Local VolumE) Survey. This sky survey, based at UNC Chapel Hill, contains all sorts of information about nearby galaxies. This includes masses and motion, which are helpful in performing calculations similar to those in this tutorial. For more information about RESOLVE, please visit https://resolve.astro.unc.edu.\n",
    "\n",
    "______________________________________________________________________________\n",
    "\n",
    "<h1>I. What is Dark Matter?</h1>\n",
    "First, have a look at these galaxies.\n",
    "\n",
    "1)<img src = https://wallup.net/wp-content/uploads/2016/01/239652-space-astronomy-galaxy-spiral_galaxy-universe-M81-748x499.jpg \n",
    "     width = \"30%\" \n",
    "/>\n",
    "2)<img src = https://s.yimg.com/fz/api/res/1.2/UJS9pyEFlibglL2V64qSPA--~C/YXBwaWQ9c3JjaGRkO2ZpPWZpdDtoPTI2MDtxPTgwO3c9MzMy/https://s.yimg.com/zb/imgv1/54ece419-0c61-339b-974d-079ac58defae/t_500x300\n",
    "     width = \"30%\"\n",
    "/>\n",
    "3)<img src = https://www.nasa.gov/images/content/725570main1_eso121-6-673.JPG\n",
    "     width = \"30%\"\n",
    "/>\n",
    "\n",
    "4)<img src  = https://www.nasa.gov/sites/default/files/styles/full_width_feature/public/thumbnails/image/hubble_friday_11202015.jpg\n",
    "     width = \"30%\"\n",
    "/>\n",
    "5)<img src = http://cdn.spacetelescope.org/archives/images/screen/opo1038b.jpg\n",
    "     width = \"50%\"\n",
    "/>\n",
    "                          \n",
    "Can you identify which are spiral? (Hint: look for the characteristic spiral arms!)\n",
    "Spiral galaxies rotate quickly, like a whirlpool, and we will be focusing on those during this tutorial.\n",
    "\n",
    "\n",
    "Galaxies 1, 2, and 3 are spiral. Image 3 is a spiral galaxy viewed from the side, while 1 and 2 are viewed face-on.\n",
    "_______________________________________________________________________________\n",
    "\n",
    "<h3>Further-out stars are moving too fast</h3>\n",
    "\n",
    "<img src = http://planetfacts.org/wp-content/uploads/2013/05/Planets-Orbital-Speeds.jpg\n",
    "     width = \"100%\"\n",
    "     />\n",
    "     \n",
    "Image credit: NASA/Flickr user ImageEditor\n",
    "\n",
    "Here on Earth, we orbit the Sun at around 30 km/s (66 thousand mph). Planets located closer to the Sun than Earth orbit at higher speeds, and planets further from the Sun orbit at lower speeds. Neptune, the most distant planet in our Solar System, orbits more than five times slower than Earth does, at about 5 km/s. This occurs because Neptune is much farther from the mass around which it orbits.\n",
    "\n",
    "Keep this in mind while we now consider a spiral galaxy: \n",
    "\n",
    "<img src = http://wallup.net/wp-content/uploads/2016/01/202377-space-galaxy-spiral_galaxy.jpg\n",
    "     width = \"100%\"\n",
    "     />\n",
    "     \n",
    "Image credit: Martin Pugh Astrophotography\n",
    "\n",
    "When you look at this galaxy, you see its luminous matter (often a luminous “disk”), like stars and gas. Try to imagine the speed at which the stars in these galaxies are rotating around the massive galactic center. Are the inner stars toward the more massive center moving faster than the outer ones? \n",
    "\n",
    "The luminous matter decreases with distance from the center, meaning most of the galaxy's matter is enclosed within a given star's orbit and exerts gravity as a central dominant mass (like the Sun). Therefore you would naturally expect stars at large distances to orbit slower than the inner stars.\n",
    "\n",
    "But to astronomers’ surprise, stars orbiting far from their galactic center are moving way faster than expected. Though luminous matter decreases significantly as you look further out (meaning mass enclosed in far-out stars’ orbits is roughly constant with increasing distance), stars beyond the luminous disk rotate at the same or even higher speeds than stars closer to the galactic center do. They <i>should</i> be following the same rotation speed pattern that the planets in the Solar System do, but they don’t. This suggests that the mass enclosed must be increasing along with distance, implying that there is some “invisible” matter that extends beyond the luminous disk.\n",
    " \n",
    "\n",
    "<h3>Uncovering the Mystery</h3>\n",
    "<div>\n",
    "<img src = https://i0.wp.com/eos.org/wp-content/uploads/2017/03/vera-rubin-at-scope-carnegie-1.jpg?w=820&ssl=1\n",
    "     width = \"49%\"/>\n",
    "<img src = https://thumbs-prod.si-cdn.com/87EoTyub42TNS4zZSTuSnXlKB9c=/800x600/filters:no_upscale()/https://public-media.si-cdn.com/filer/bd/fd/bdfd653b-992d-4480-9fd8-e20144df60fd/rubin-dtm_top.jpg\n",
    "     width = \"49%\"\n",
    "/>\n",
    "</div>\n",
    "\n",
    "Image credits: Carnegie Institution for Science (left); NOAO/AURA/NSF (right)\n",
    "\n",
    "Vera Rubin, born in 1928, took the lead on investigating this discrepancy between the predicted and observed orbital velocities of luminous matter in spiral galaxies. She studied what we call flat rotation curves (below) to compare an object's rotation speed with its distance from its respective galactic center.  \n",
    "\n",
    "Rubin hypothesized that there must be a large amount of unseen mass keeping matter at large distances from the center in orbit, providing the first evidence that there is more matter in spiral galaxies than meets the eye. Matter that does not reflect, emit, absorb, or interact at all with light. Her studies indicated the existence of dark matter.\n",
    "\n",
    "Rubin's work was especially impactful because of the stunning visuals (in her papers) of rotation data she and her colleagues had measured. She presented this research at various scientific conferences in a clear, direct manner that made her results undeniable. Additionally, this pivotal discovery made Rubin a pioneer for women in astronomy. With numerous studies of galactic rotation, Rubin opened up an entirely new field of study that would puzzle astronomers for decades to come.\n",
    "\n",
    "Some of the above information is from astronomer Sandra Faber at the University of California at Santa Cruz. https://blogs.scientificamerican.com/guest-blog/vera-rubins-contributions-to-astronomy/ \n",
    "\n",
    "\n",
    "<h2> How Much Dark Matter is in a Galaxy? </h2>\n",
    "\n",
    "Take a moment and see if you can guess what percentage of the Milky Way's matter is dark. Here's a hint: it's a lot!\n",
    "\n",
    "\n",
    "To run cells in this notebook, click on the cell and then press shift+enter, or click the play button at the top of your screen.\n",
    "\n",
    "First, we'll import some basic modules that will be useful later on. It's best to do this first."
   ]
  },
  {
   "cell_type": "code",
   "execution_count": 129,
   "id": "e500d6d8-7b85-412c-86c1-e65705076f89",
   "metadata": {},
   "outputs": [],
   "source": [
    "import numpy as np\n",
    "import matplotlib.pyplot as plt             "
   ]
  },
  {
   "cell_type": "markdown",
   "id": "85c320cc-45e4-4e0d-a867-206dda566ef6",
   "metadata": {},
   "source": [
    "Let's perform a rough calculation that outputs the percentage of dark matter in the Milky Way.\n",
    "\n",
    "For objects with extremely large masses, we use the mass of the sun as a unit to make the numbers more manageable. Let's go ahead and identify that."
   ]
  },
  {
   "cell_type": "code",
   "execution_count": 130,
   "id": "299ad0a4-7b79-43d1-be6f-dc39f3705260",
   "metadata": {},
   "outputs": [],
   "source": [
    "M_sun = 2e30                  #this is in kg"
   ]
  },
  {
   "cell_type": "markdown",
   "id": "88cd19b4-1889-4cb9-93ae-a0e2b4400c8d",
   "metadata": {},
   "source": [
    "Now that we have identified the mass of the sun, we can start piecing together the main constituents of mass in the Milky Way, like the stars and the central black hole (Sagittarius A*). Don't worry if you don't recognize these numbers; they were pulled from outside sources (https://en.wikipedia.org/wiki/Milky_Way). We just want to do some math and figure out how much of the mass of the Milky Way is accounted for by luminous matter."
   ]
  },
  {
   "cell_type": "code",
   "execution_count": 131,
   "id": "595e97e3-2b7d-4c16-9c07-3ddd50d8d30f",
   "metadata": {},
   "outputs": [
    {
     "ename": "TypeError",
     "evalue": "unsupported operand type(s) for *: 'ellipsis' and 'float'",
     "output_type": "error",
     "traceback": [
      "\u001b[1;31m---------------------------------------------------------------------------\u001b[0m",
      "\u001b[1;31mTypeError\u001b[0m                                 Traceback (most recent call last)",
      "Input \u001b[1;32mIn [131]\u001b[0m, in \u001b[0;36m<cell line: 6>\u001b[1;34m()\u001b[0m\n\u001b[0;32m      2\u001b[0m M_stars \u001b[38;5;241m=\u001b[39m (\u001b[38;5;241m5.1e10\u001b[39m) \u001b[38;5;241m*\u001b[39m M_sun\n\u001b[0;32m      4\u001b[0m \u001b[38;5;66;03m#the estimated mass of Sagittarius A* is 4.1E6 solar masses. \u001b[39;00m\n\u001b[0;32m      5\u001b[0m \u001b[38;5;66;03m#complete the line below with this information\u001b[39;00m\n\u001b[1;32m----> 6\u001b[0m M_bh \u001b[38;5;241m=\u001b[39m \u001b[43m(\u001b[49m\u001b[38;5;241;43m.\u001b[39;49m\u001b[38;5;241;43m.\u001b[39;49m\u001b[38;5;241;43m.\u001b[39;49m\u001b[43m)\u001b[49m\u001b[43m \u001b[49m\u001b[38;5;241;43m*\u001b[39;49m\u001b[43m \u001b[49m\u001b[43mM_sun\u001b[49m\n\u001b[0;32m      8\u001b[0m \u001b[38;5;66;03m#the estimated mass of the MW's gas and dust is about 15% of its stellar mass\u001b[39;00m\n\u001b[0;32m      9\u001b[0m \u001b[38;5;66;03m#fill in the blank below with the stellar mass seen at the top of this cell \u001b[39;00m\n\u001b[0;32m     10\u001b[0m \u001b[38;5;66;03m#hint: you can input the variable name instead of the number!\u001b[39;00m\n\u001b[0;32m     11\u001b[0m M_gasdust \u001b[38;5;241m=\u001b[39m (\u001b[38;5;241m0.15\u001b[39m \u001b[38;5;241m*\u001b[39m \u001b[38;5;241m.\u001b[39m\u001b[38;5;241m.\u001b[39m\u001b[38;5;241m.\u001b[39m)\n",
      "\u001b[1;31mTypeError\u001b[0m: unsupported operand type(s) for *: 'ellipsis' and 'float'"
     ]
    }
   ],
   "source": [
    "#the estimated mass of stars in the MW is between 4.6e10 and 6.4e10 solar masses\n",
    "M_stars = (5.1e10) * M_sun\n",
    "\n",
    "#the estimated mass of Sagittarius A* is 4.1E6 solar masses. \n",
    "#complete the line below with this information\n",
    "M_bh = (...) * M_sun\n",
    "\n",
    "#the estimated mass of the MW's gas and dust is about 15% of its stellar mass\n",
    "#fill in the blank below with the stellar mass seen at the top of this cell \n",
    "#hint: you can input the variable name instead of the number!\n",
    "M_gasdust = (0.15 * ...) \n"
   ]
  },
  {
   "cell_type": "markdown",
   "id": "19aa670b-8571-4396-8247-fc7f305063d8",
   "metadata": {},
   "source": [
    "Now let's put it all together:"
   ]
  },
  {
   "cell_type": "code",
   "execution_count": 132,
   "id": "1b237407-3b46-4d7e-bf56-80597c31e917",
   "metadata": {},
   "outputs": [
    {
     "name": "stdout",
     "output_type": "stream",
     "text": [
      "The mass of luminous matter in the Milky Way is 1.17E+41 kg\n"
     ]
    }
   ],
   "source": [
    "#mass of Milky Way's luminous matter\n",
    "M_mwlum = M_stars + M_bh + M_gasdust \n",
    "\n",
    "print(\"The mass of luminous matter in the Milky Way is %.2E kg\"% M_mwlum)  # %.2E converts to scientific notation"
   ]
  },
  {
   "cell_type": "markdown",
   "id": "f16e1c89-4dfa-46a0-807c-6eff7cfe7659",
   "metadata": {},
   "source": [
    "The total mass of the Milky Way (including dark matter) has been estimated to be between 890 billion (8.9e11) and 1.5 trillion (1.5e12) solar masses: https://en.wikipedia.org/wiki/Milky_Way\n",
    "\n",
    "Complete the cell below by replacing the \"...\" with a number (in scientific notation) within this range."
   ]
  },
  {
   "cell_type": "code",
   "execution_count": 133,
   "id": "50b0fee2-e72c-4f28-9c55-5c344c7626a6",
   "metadata": {},
   "outputs": [
    {
     "ename": "TypeError",
     "evalue": "unsupported operand type(s) for *: 'ellipsis' and 'float'",
     "output_type": "error",
     "traceback": [
      "\u001b[1;31m---------------------------------------------------------------------------\u001b[0m",
      "\u001b[1;31mTypeError\u001b[0m                                 Traceback (most recent call last)",
      "Input \u001b[1;32mIn [133]\u001b[0m, in \u001b[0;36m<cell line: 1>\u001b[1;34m()\u001b[0m\n\u001b[1;32m----> 1\u001b[0m M_mwtotal \u001b[38;5;241m=\u001b[39m \u001b[43m(\u001b[49m\u001b[38;5;241;43m.\u001b[39;49m\u001b[38;5;241;43m.\u001b[39;49m\u001b[38;5;241;43m.\u001b[39;49m\u001b[43m)\u001b[49m\u001b[43m \u001b[49m\u001b[38;5;241;43m*\u001b[39;49m\u001b[43m \u001b[49m\u001b[43mM_sun\u001b[49m\n",
      "\u001b[1;31mTypeError\u001b[0m: unsupported operand type(s) for *: 'ellipsis' and 'float'"
     ]
    }
   ],
   "source": [
    "M_mwtotal = (...) * M_sun"
   ]
  },
  {
   "cell_type": "markdown",
   "id": "dc4886d6-66e4-4c0f-97aa-88f04908c0a4",
   "metadata": {},
   "source": [
    "Note: this estimate is based on the motion of matter in the Milky Way around the galactic center. \n",
    "https://arxiv.org/pdf/astro-ph/9505068.pdf\n",
    "\n",
    "Finally, let's divide luminous mass by total galaxy mass and subtract from 1 to find the percentage of \"leftover\" mass (dark matter)."
   ]
  },
  {
   "cell_type": "code",
   "execution_count": 134,
   "id": "def0445b-7ee2-4ae0-b46a-5424a04d7f60",
   "metadata": {},
   "outputs": [
    {
     "name": "stdout",
     "output_type": "stream",
     "text": [
      "The percentage of luminous matter in the Milky Way is 5.924657\n"
     ]
    }
   ],
   "source": [
    "#let's find the percentage of the total galaxy mass that luminous matter accounts for:\n",
    "percentLM = (M_mwlum / M_mwtotal) * 100\n",
    "print(\"The percentage of luminous matter in the Milky Way is %f\"% percentLM)"
   ]
  },
  {
   "cell_type": "code",
   "execution_count": 135,
   "id": "b02fbcb1-4b10-4afc-afa1-21391ecba66a",
   "metadata": {},
   "outputs": [
    {
     "ename": "TypeError",
     "evalue": "unsupported operand type(s) for -: 'int' and 'ellipsis'",
     "output_type": "error",
     "traceback": [
      "\u001b[1;31m---------------------------------------------------------------------------\u001b[0m",
      "\u001b[1;31mTypeError\u001b[0m                                 Traceback (most recent call last)",
      "Input \u001b[1;32mIn [135]\u001b[0m, in \u001b[0;36m<cell line: 3>\u001b[1;34m()\u001b[0m\n\u001b[0;32m      1\u001b[0m \u001b[38;5;66;03m#now we can find the percentage accounted for by dark matter\u001b[39;00m\n\u001b[0;32m      2\u001b[0m \u001b[38;5;66;03m#fill in the line below with the percent luminous matter we just found.\u001b[39;00m\n\u001b[1;32m----> 3\u001b[0m percentDM \u001b[38;5;241m=\u001b[39m \u001b[38;5;241;43m100\u001b[39;49m\u001b[43m \u001b[49m\u001b[38;5;241;43m-\u001b[39;49m\u001b[43m \u001b[49m\u001b[38;5;241;43m.\u001b[39;49m\u001b[38;5;241;43m.\u001b[39;49m\u001b[38;5;241;43m.\u001b[39;49m\n\u001b[0;32m      5\u001b[0m \u001b[38;5;28mprint\u001b[39m(\u001b[38;5;124m\"\u001b[39m\u001b[38;5;124mThe percentage of dark matter in the Milky Way is \u001b[39m\u001b[38;5;132;01m%f\u001b[39;00m\u001b[38;5;124m\"\u001b[39m\u001b[38;5;241m%\u001b[39m percentDM)\n",
      "\u001b[1;31mTypeError\u001b[0m: unsupported operand type(s) for -: 'int' and 'ellipsis'"
     ]
    }
   ],
   "source": [
    "#now we can find the percentage accounted for by dark matter\n",
    "#fill in the line below with the percent luminous matter we just found.\n",
    "percentDM = 100 - ...\n",
    "\n",
    "print(\"The percentage of dark matter in the Milky Way is %f\"% percentDM)"
   ]
  },
  {
   "cell_type": "markdown",
   "id": "2baf3ccc-0b44-4197-a4ba-b59935290124",
   "metadata": {},
   "source": [
    "These may just be estimates, but dark matter really does account for more than 90% of the Milky Way's mass!"
   ]
  },
  {
   "cell_type": "markdown",
   "id": "a0217882-c933-4465-9a7f-ac6d6c183cb6",
   "metadata": {},
   "source": [
    "Remember our discussion on Vera Rubin? Can you guess what data on far-out stars in spiral galaxies she used to provide evidence on dark matter? Think about stellar information we might be able to observe from Earth."
   ]
  },
  {
   "cell_type": "markdown",
   "id": "1b53255e-1fe0-430a-aa1e-67a69486f66c",
   "metadata": {},
   "source": [
    " ------------------------------------------------------------------------------"
   ]
  },
  {
   "cell_type": "markdown",
   "id": "46517b72-14c2-4285-b2ee-c44661f03c6a",
   "metadata": {},
   "source": [
    "<h1> II. Rotation Curves and Measuring Dark Matter </h1>\n",
    "\n",
    "Because the luminous matter in spiral galaxies starts to decrease with distance from the center, you should expect farther-out stars to orbit slower than the closer-in stars. See if you can explain why by using this equation for orbital velocity.\n",
    "V=√(GM/R)\n",
    "\n",
    "<i> Explanation: A star orbits at a lower speed as its distance R from the object around which it orbits increases. Contrarily, a star orbits faster as the enclosed mass M within its orbit increases. (This is due to the increased gravitational pull on the star, so the star must move faster in response to that greater pull.) Therefore, we can use the orbital speed and orbital radius of stars in a spiral galaxy to calculate the mass enclosed within its orbit. </i>\n",
    "\n",
    "\n",
    "<img src = https://upload.wikimedia.org/wikipedia/commons/c/cd/Rotation_curve_of_spiral_galaxy_Messier_33_%28Triangulum%29.png\n",
    "     width = \"700\"\n",
    "     height = \"400\"\n",
    "     />\n",
    "\n",
    "Image credit: Mario De Leo; from https://en.wikipedia.org/wiki/Galaxy_rotation_curve#/media/File:Rotation_curve_of_spiral_galaxy_Messier_33_(Triangulum).png\n",
    "\n",
    "A rotation curve plots the function of v (velocity) over r (distance from the center) for matter within a given spiral galaxy. These plots are how Vera Rubin made her dark matter discovery! There are two types of rotation curves, and they can help us determine the presence of dark matter in a galaxy. \n",
    "\n",
    "<h4>Keplerian Rotation Curve</h4>\n",
    "The first is a Keplerian rotation curve, in which orbital velocity decreases as you look further from the center of the galaxy. You can also think of this as the expected relationship (based on what we <i>see</i>, not considering dark matter). In other words, this is what we are \"supposed\" to see given the galaxy's radiation.\n",
    "\n",
    "Let's plot an example of a Keplerian rotation curve. Run the cell below."
   ]
  },
  {
   "cell_type": "code",
   "execution_count": 136,
   "id": "dd82fc0b-b91c-48f9-8afd-1b56f5ad9cf1",
   "metadata": {},
   "outputs": [
    {
     "data": {
      "text/plain": [
       "Text(0, 0.5, 'V(km/s)')"
      ]
     },
     "execution_count": 136,
     "metadata": {},
     "output_type": "execute_result"
    },
    {
     "data": {
      "image/png": "[encoded data removed]",
      "text/plain": [
       "<Figure size 432x288 with 1 Axes>"
      ]
     },
     "metadata": {
      "needs_background": "light"
     },
     "output_type": "display_data"
    }
   ],
   "source": [
    "#radius values\n",
    "x = np.array([0 , 0.9 , 1.1 , 1.6 , 1.9 , 2.0 , 2.3 , 2.5 , 3.0 , 4.0 , 4.5 , 5.0 , 5.5 , 6.0 , 6.2 , 6.3 , 6.4 , 6.7 , 7.3 , 8.0 , 8.9 , 9.0 , 9.9 , 11. , 11.4 , 13 , 14. , 15 , 15.1 , 16.3 , 16.5 , 17 , 18 , 19])\n",
    "\n",
    "#rotation speed values\n",
    "y = np.array([0 , 200 , 235 , 260 , 265 , 266 , 264 , 259 , 240 , 220 , 207 , 190 , 179 , 170 , 161 , 156 , 150 , 146 , 132 , 124 , 118 , 113 , 108 , 100 , 90 , 80 , 75, 70 , 65 , 61 , 58 , 56 , 54 , 52])\n",
    "\n",
    "plt.plot(x,y,'b')\n",
    "plt.title(\"Keplerian Rotation Curve\")\n",
    "plt.xlabel(\"R(kpc)\")\n",
    "plt.ylabel(\"V(km/s)\")"
   ]
  },
  {
   "cell_type": "markdown",
   "id": "19f81ec0-3b4a-4d28-8f24-15de14734a39",
   "metadata": {},
   "source": [
    "<h4>Flat Rotation Curve</h4>\n",
    "The second type of rotation curve is a flat curve, in which orbital speed does not decrease as distance from the center increases. Instead, the speed of galactic matter tends to remain constant or increase steadily, with some fluctuation, as you look further out. These rotation curves most commonly represent spiral galaxies and account for the presence of dark matter. \n",
    "\n",
    "The Milky Way is one example of a galaxy with a flat rotation curve. \n",
    "\n",
    "Let's take some fake velocity and distance data and plot it."
   ]
  },
  {
   "cell_type": "code",
   "execution_count": 137,
   "id": "a8b03c7d-64ef-4617-bca6-a7b565b57728",
   "metadata": {},
   "outputs": [
    {
     "ename": "TypeError",
     "evalue": "float() argument must be a string or a number, not 'ellipsis'",
     "output_type": "error",
     "traceback": [
      "\u001b[1;31m---------------------------------------------------------------------------\u001b[0m",
      "\u001b[1;31mTypeError\u001b[0m                                 Traceback (most recent call last)",
      "Input \u001b[1;32mIn [137]\u001b[0m, in \u001b[0;36m<cell line: 8>\u001b[1;34m()\u001b[0m\n\u001b[0;32m      5\u001b[0m y \u001b[38;5;241m=\u001b[39m np\u001b[38;5;241m.\u001b[39marray([\u001b[38;5;241m0\u001b[39m , \u001b[38;5;241m200\u001b[39m , \u001b[38;5;241m235\u001b[39m , \u001b[38;5;241m270\u001b[39m , \u001b[38;5;241m281\u001b[39m , \u001b[38;5;241m282\u001b[39m , \u001b[38;5;241m276\u001b[39m , \u001b[38;5;241m269\u001b[39m , \u001b[38;5;241m263\u001b[39m , \u001b[38;5;241m248\u001b[39m , \u001b[38;5;241m249\u001b[39m , \u001b[38;5;241m260\u001b[39m , \u001b[38;5;241m270\u001b[39m , \u001b[38;5;241m276\u001b[39m , \u001b[38;5;241m277\u001b[39m , \u001b[38;5;241m276\u001b[39m , \u001b[38;5;241m274\u001b[39m , \u001b[38;5;241m273\u001b[39m , \u001b[38;5;241m275\u001b[39m , \u001b[38;5;241m280\u001b[39m , \u001b[38;5;241m281\u001b[39m , \u001b[38;5;241m283\u001b[39m , \u001b[38;5;241m284\u001b[39m , \u001b[38;5;241m285\u001b[39m , \u001b[38;5;241m286\u001b[39m , \u001b[38;5;241m287\u001b[39m , \u001b[38;5;241m288\u001b[39m , \u001b[38;5;241m289\u001b[39m , \u001b[38;5;241m290\u001b[39m , \u001b[38;5;241m292\u001b[39m , \u001b[38;5;241m293\u001b[39m , \u001b[38;5;241m294\u001b[39m , \u001b[38;5;241m295\u001b[39m , \u001b[38;5;241m296\u001b[39m])\n\u001b[0;32m      7\u001b[0m \u001b[38;5;66;03m#plot the above variables in the following line:\u001b[39;00m\n\u001b[1;32m----> 8\u001b[0m \u001b[43mplt\u001b[49m\u001b[38;5;241;43m.\u001b[39;49m\u001b[43mplot\u001b[49m\u001b[43m(\u001b[49m\u001b[38;5;241;43m.\u001b[39;49m\u001b[38;5;241;43m.\u001b[39;49m\u001b[38;5;241;43m.\u001b[39;49m\u001b[43m,\u001b[49m\u001b[38;5;241;43m.\u001b[39;49m\u001b[38;5;241;43m.\u001b[39;49m\u001b[38;5;241;43m.\u001b[39;49m\u001b[43m,\u001b[49m\u001b[38;5;124;43m'\u001b[39;49m\u001b[38;5;124;43mr\u001b[39;49m\u001b[38;5;124;43m'\u001b[39;49m\u001b[43m)\u001b[49m\n\u001b[0;32m      9\u001b[0m plt\u001b[38;5;241m.\u001b[39mtitle(\u001b[38;5;124m\"\u001b[39m\u001b[38;5;124mFlat Rotation Curve\u001b[39m\u001b[38;5;124m\"\u001b[39m)\n\u001b[0;32m     10\u001b[0m plt\u001b[38;5;241m.\u001b[39mxlabel(\u001b[38;5;124m\"\u001b[39m\u001b[38;5;124mR(kpc)\u001b[39m\u001b[38;5;124m\"\u001b[39m)\n",
      "File \u001b[1;32m~\\anaconda3\\lib\\site-packages\\matplotlib\\pyplot.py:2757\u001b[0m, in \u001b[0;36mplot\u001b[1;34m(scalex, scaley, data, *args, **kwargs)\u001b[0m\n\u001b[0;32m   2755\u001b[0m \u001b[38;5;129m@_copy_docstring_and_deprecators\u001b[39m(Axes\u001b[38;5;241m.\u001b[39mplot)\n\u001b[0;32m   2756\u001b[0m \u001b[38;5;28;01mdef\u001b[39;00m \u001b[38;5;21mplot\u001b[39m(\u001b[38;5;241m*\u001b[39margs, scalex\u001b[38;5;241m=\u001b[39m\u001b[38;5;28;01mTrue\u001b[39;00m, scaley\u001b[38;5;241m=\u001b[39m\u001b[38;5;28;01mTrue\u001b[39;00m, data\u001b[38;5;241m=\u001b[39m\u001b[38;5;28;01mNone\u001b[39;00m, \u001b[38;5;241m*\u001b[39m\u001b[38;5;241m*\u001b[39mkwargs):\n\u001b[1;32m-> 2757\u001b[0m     \u001b[38;5;28;01mreturn\u001b[39;00m gca()\u001b[38;5;241m.\u001b[39mplot(\n\u001b[0;32m   2758\u001b[0m         \u001b[38;5;241m*\u001b[39margs, scalex\u001b[38;5;241m=\u001b[39mscalex, scaley\u001b[38;5;241m=\u001b[39mscaley,\n\u001b[0;32m   2759\u001b[0m         \u001b[38;5;241m*\u001b[39m\u001b[38;5;241m*\u001b[39m({\u001b[38;5;124m\"\u001b[39m\u001b[38;5;124mdata\u001b[39m\u001b[38;5;124m\"\u001b[39m: data} \u001b[38;5;28;01mif\u001b[39;00m data \u001b[38;5;129;01mis\u001b[39;00m \u001b[38;5;129;01mnot\u001b[39;00m \u001b[38;5;28;01mNone\u001b[39;00m \u001b[38;5;28;01melse\u001b[39;00m {}), \u001b[38;5;241m*\u001b[39m\u001b[38;5;241m*\u001b[39mkwargs)\n",
      "File \u001b[1;32m~\\anaconda3\\lib\\site-packages\\matplotlib\\axes\\_axes.py:1634\u001b[0m, in \u001b[0;36mAxes.plot\u001b[1;34m(self, scalex, scaley, data, *args, **kwargs)\u001b[0m\n\u001b[0;32m   1632\u001b[0m lines \u001b[38;5;241m=\u001b[39m [\u001b[38;5;241m*\u001b[39m\u001b[38;5;28mself\u001b[39m\u001b[38;5;241m.\u001b[39m_get_lines(\u001b[38;5;241m*\u001b[39margs, data\u001b[38;5;241m=\u001b[39mdata, \u001b[38;5;241m*\u001b[39m\u001b[38;5;241m*\u001b[39mkwargs)]\n\u001b[0;32m   1633\u001b[0m \u001b[38;5;28;01mfor\u001b[39;00m line \u001b[38;5;129;01min\u001b[39;00m lines:\n\u001b[1;32m-> 1634\u001b[0m     \u001b[38;5;28;43mself\u001b[39;49m\u001b[38;5;241;43m.\u001b[39;49m\u001b[43madd_line\u001b[49m\u001b[43m(\u001b[49m\u001b[43mline\u001b[49m\u001b[43m)\u001b[49m\n\u001b[0;32m   1635\u001b[0m \u001b[38;5;28mself\u001b[39m\u001b[38;5;241m.\u001b[39m_request_autoscale_view(scalex\u001b[38;5;241m=\u001b[39mscalex, scaley\u001b[38;5;241m=\u001b[39mscaley)\n\u001b[0;32m   1636\u001b[0m \u001b[38;5;28;01mreturn\u001b[39;00m lines\n",
      "File \u001b[1;32m~\\anaconda3\\lib\\site-packages\\matplotlib\\axes\\_base.py:2283\u001b[0m, in \u001b[0;36m_AxesBase.add_line\u001b[1;34m(self, line)\u001b[0m\n\u001b[0;32m   2280\u001b[0m \u001b[38;5;28;01mif\u001b[39;00m line\u001b[38;5;241m.\u001b[39mget_clip_path() \u001b[38;5;129;01mis\u001b[39;00m \u001b[38;5;28;01mNone\u001b[39;00m:\n\u001b[0;32m   2281\u001b[0m     line\u001b[38;5;241m.\u001b[39mset_clip_path(\u001b[38;5;28mself\u001b[39m\u001b[38;5;241m.\u001b[39mpatch)\n\u001b[1;32m-> 2283\u001b[0m \u001b[38;5;28;43mself\u001b[39;49m\u001b[38;5;241;43m.\u001b[39;49m\u001b[43m_update_line_limits\u001b[49m\u001b[43m(\u001b[49m\u001b[43mline\u001b[49m\u001b[43m)\u001b[49m\n\u001b[0;32m   2284\u001b[0m \u001b[38;5;28;01mif\u001b[39;00m \u001b[38;5;129;01mnot\u001b[39;00m line\u001b[38;5;241m.\u001b[39mget_label():\n\u001b[0;32m   2285\u001b[0m     line\u001b[38;5;241m.\u001b[39mset_label(\u001b[38;5;124mf\u001b[39m\u001b[38;5;124m'\u001b[39m\u001b[38;5;124m_child\u001b[39m\u001b[38;5;132;01m{\u001b[39;00m\u001b[38;5;28mlen\u001b[39m(\u001b[38;5;28mself\u001b[39m\u001b[38;5;241m.\u001b[39m_children)\u001b[38;5;132;01m}\u001b[39;00m\u001b[38;5;124m'\u001b[39m)\n",
      "File \u001b[1;32m~\\anaconda3\\lib\\site-packages\\matplotlib\\axes\\_base.py:2306\u001b[0m, in \u001b[0;36m_AxesBase._update_line_limits\u001b[1;34m(self, line)\u001b[0m\n\u001b[0;32m   2302\u001b[0m \u001b[38;5;28;01mdef\u001b[39;00m \u001b[38;5;21m_update_line_limits\u001b[39m(\u001b[38;5;28mself\u001b[39m, line):\n\u001b[0;32m   2303\u001b[0m     \u001b[38;5;124;03m\"\"\"\u001b[39;00m\n\u001b[0;32m   2304\u001b[0m \u001b[38;5;124;03m    Figures out the data limit of the given line, updating self.dataLim.\u001b[39;00m\n\u001b[0;32m   2305\u001b[0m \u001b[38;5;124;03m    \"\"\"\u001b[39;00m\n\u001b[1;32m-> 2306\u001b[0m     path \u001b[38;5;241m=\u001b[39m \u001b[43mline\u001b[49m\u001b[38;5;241;43m.\u001b[39;49m\u001b[43mget_path\u001b[49m\u001b[43m(\u001b[49m\u001b[43m)\u001b[49m\n\u001b[0;32m   2307\u001b[0m     \u001b[38;5;28;01mif\u001b[39;00m path\u001b[38;5;241m.\u001b[39mvertices\u001b[38;5;241m.\u001b[39msize \u001b[38;5;241m==\u001b[39m \u001b[38;5;241m0\u001b[39m:\n\u001b[0;32m   2308\u001b[0m         \u001b[38;5;28;01mreturn\u001b[39;00m\n",
      "File \u001b[1;32m~\\anaconda3\\lib\\site-packages\\matplotlib\\lines.py:999\u001b[0m, in \u001b[0;36mLine2D.get_path\u001b[1;34m(self)\u001b[0m\n\u001b[0;32m    997\u001b[0m \u001b[38;5;124;03m\"\"\"Return the `~matplotlib.path.Path` associated with this line.\"\"\"\u001b[39;00m\n\u001b[0;32m    998\u001b[0m \u001b[38;5;28;01mif\u001b[39;00m \u001b[38;5;28mself\u001b[39m\u001b[38;5;241m.\u001b[39m_invalidy \u001b[38;5;129;01mor\u001b[39;00m \u001b[38;5;28mself\u001b[39m\u001b[38;5;241m.\u001b[39m_invalidx:\n\u001b[1;32m--> 999\u001b[0m     \u001b[38;5;28;43mself\u001b[39;49m\u001b[38;5;241;43m.\u001b[39;49m\u001b[43mrecache\u001b[49m\u001b[43m(\u001b[49m\u001b[43m)\u001b[49m\n\u001b[0;32m   1000\u001b[0m \u001b[38;5;28;01mreturn\u001b[39;00m \u001b[38;5;28mself\u001b[39m\u001b[38;5;241m.\u001b[39m_path\n",
      "File \u001b[1;32m~\\anaconda3\\lib\\site-packages\\matplotlib\\lines.py:652\u001b[0m, in \u001b[0;36mLine2D.recache\u001b[1;34m(self, always)\u001b[0m\n\u001b[0;32m    650\u001b[0m \u001b[38;5;28;01mif\u001b[39;00m always \u001b[38;5;129;01mor\u001b[39;00m \u001b[38;5;28mself\u001b[39m\u001b[38;5;241m.\u001b[39m_invalidx:\n\u001b[0;32m    651\u001b[0m     xconv \u001b[38;5;241m=\u001b[39m \u001b[38;5;28mself\u001b[39m\u001b[38;5;241m.\u001b[39mconvert_xunits(\u001b[38;5;28mself\u001b[39m\u001b[38;5;241m.\u001b[39m_xorig)\n\u001b[1;32m--> 652\u001b[0m     x \u001b[38;5;241m=\u001b[39m \u001b[43m_to_unmasked_float_array\u001b[49m\u001b[43m(\u001b[49m\u001b[43mxconv\u001b[49m\u001b[43m)\u001b[49m\u001b[38;5;241m.\u001b[39mravel()\n\u001b[0;32m    653\u001b[0m \u001b[38;5;28;01melse\u001b[39;00m:\n\u001b[0;32m    654\u001b[0m     x \u001b[38;5;241m=\u001b[39m \u001b[38;5;28mself\u001b[39m\u001b[38;5;241m.\u001b[39m_x\n",
      "File \u001b[1;32m~\\anaconda3\\lib\\site-packages\\matplotlib\\cbook\\__init__.py:1298\u001b[0m, in \u001b[0;36m_to_unmasked_float_array\u001b[1;34m(x)\u001b[0m\n\u001b[0;32m   1296\u001b[0m     \u001b[38;5;28;01mreturn\u001b[39;00m np\u001b[38;5;241m.\u001b[39mma\u001b[38;5;241m.\u001b[39masarray(x, \u001b[38;5;28mfloat\u001b[39m)\u001b[38;5;241m.\u001b[39mfilled(np\u001b[38;5;241m.\u001b[39mnan)\n\u001b[0;32m   1297\u001b[0m \u001b[38;5;28;01melse\u001b[39;00m:\n\u001b[1;32m-> 1298\u001b[0m     \u001b[38;5;28;01mreturn\u001b[39;00m \u001b[43mnp\u001b[49m\u001b[38;5;241;43m.\u001b[39;49m\u001b[43masarray\u001b[49m\u001b[43m(\u001b[49m\u001b[43mx\u001b[49m\u001b[43m,\u001b[49m\u001b[43m \u001b[49m\u001b[38;5;28;43mfloat\u001b[39;49m\u001b[43m)\u001b[49m\n",
      "\u001b[1;31mTypeError\u001b[0m: float() argument must be a string or a number, not 'ellipsis'"
     ]
    },
    {
     "data": {
      "image/png": "[encoded data removed]",
      "text/plain": [
       "<Figure size 432x288 with 1 Axes>"
      ]
     },
     "metadata": {
      "needs_background": "light"
     },
     "output_type": "display_data"
    }
   ],
   "source": [
    "#radius values\n",
    "x = np.array([0 , 0.9 , 1.1 , 1.6 , 1.9 , 2.0 , 2.3 , 2.5 , 3.0 , 4.0 , 4.5 , 5.0 , 5.5 , 6.0 , 6.2 , 6.3 , 6.4 , 6.7 , 7.3 , 8.0 , 8.9 , 9.0 , 9.9 , 11. , 11.4 , 13 , 14. , 15 , 15.1 , 16.3 , 16.5 , 17 , 18 , 19])\n",
    "\n",
    "#rotation speed values\n",
    "y = np.array([0 , 200 , 235 , 270 , 281 , 282 , 276 , 269 , 263 , 248 , 249 , 260 , 270 , 276 , 277 , 276 , 274 , 273 , 275 , 280 , 281 , 283 , 284 , 285 , 286 , 287 , 288 , 289 , 290 , 292 , 293 , 294 , 295 , 296])\n",
    "\n",
    "#plot the above variables in the following line:\n",
    "plt.plot(...,...,'r')\n",
    "plt.title(\"Flat Rotation Curve\")\n",
    "plt.xlabel(\"R(kpc)\")\n",
    "plt.ylabel(\"V(km/s)\")"
   ]
  },
  {
   "cell_type": "markdown",
   "id": "612a4837-85e2-4783-84ed-25f663069396",
   "metadata": {},
   "source": [
    "Think back to the orbital velocity equation: _____. While an outer star’s distance from the center R may be larger, so is the mass M enclosed in its orbit. Mathematically, it makes sense that with the presence of dark matter, outer stars move just as fast as inner stars do."
   ]
  },
  {
   "cell_type": "markdown",
   "id": "66d9771e-462f-4b85-9499-27a87b02e25d",
   "metadata": {},
   "source": [
    "_________________________________________________________________________________________________________________\n",
    "Now, let's look at some <i>real</i> spiral galaxies and plot their rotation curves."
   ]
  },
  {
   "cell_type": "markdown",
   "id": "13ef0324-c068-460a-baee-18e51d97b2ff",
   "metadata": {},
   "source": [
    "Image\n",
    "\n",
    "Name + size + distance + general info"
   ]
  },
  {
   "cell_type": "markdown",
   "id": "d535e5ff-43ed-4828-9d14-2d79654a79d6",
   "metadata": {},
   "source": [
    "Code: x and y values (rotation data)\n",
    "Where am I getting this data? Discuss Fri. Which galaxies to use? Giant and dwarf spiral galaxies, produce diff results. Want to achieve a difference in DM levels in giant vs dwarf galaxies."
   ]
  },
  {
   "cell_type": "markdown",
   "id": "f34e51fe-c27d-4775-ba2e-25f5d1a55fa1",
   "metadata": {},
   "source": [
    "Check out this article on the detection of 12 billion year-old dark matter! \n",
    "https://www.space.com/dark-matter-ancient-galaxy-detection\n",
    "Here's the journal, published Aug 1, 2022.\n",
    "https://journals.aps.org/prl/abstract/10.1103/PhysRevLett.129.061301"
   ]
  }
 ],
 "metadata": {
  "kernelspec": {
   "display_name": "Python 3 (ipykernel)",
   "language": "python",
   "name": "python3"
  },
  "language_info": {
   "codemirror_mode": {
    "name": "ipython",
    "version": 3
   },
   "file_extension": ".py",
   "mimetype": "text/x-python",
   "name": "python",
   "nbconvert_exporter": "python",
   "pygments_lexer": "ipython3",
   "version": "3.9.12"
  }
 },
 "nbformat": 4,
 "nbformat_minor": 5
}
